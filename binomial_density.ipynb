{
 "cells": [
  {
   "cell_type": "markdown",
   "metadata": {},
   "source": [
    "Assume that a baseball team has an average pitcher, that is, one whose probability of winning any decision is 0.5. If this pitcher has 30 decisions in a session, what is the probability that he will win at least 20 decisions\n"
   ]
  },
  {
   "cell_type": "code",
   "execution_count": 2,
   "metadata": {},
   "outputs": [
    {
     "data": {
      "text/plain": [
       "0.04936857335269451"
      ]
     },
     "execution_count": 2,
     "metadata": {},
     "output_type": "execute_result"
    }
   ],
   "source": [
    "\n",
    "\n",
    "def binom_coeff(n:int, k:int) -> int:\n",
    "    \"\"\"Compute the binomial coefficient with Pascal's triangle\n",
    "    \n",
    "        1   1\n",
    "        1   2   1\n",
    "        1   3   3   1\n",
    "        1   4   6   4   1 ...\n",
    "\n",
    "    Args:\n",
    "        n (int): number of trials\n",
    "        k (int): number of successes\n",
    "\n",
    "    Returns:\n",
    "        int: the binomial coefficient\n",
    "    \"\"\"    \n",
    "    \n",
    "    if k==0:\n",
    "        return 1\n",
    "    \n",
    "    if n==0:\n",
    "        return 0\n",
    "    \n",
    "    return binom_coeff(n-1, k) + binom_coeff(n-1, k-1)\n",
    "\n",
    "\n",
    "def binom_density_function(p:float, n:int, k:int)->float:\n",
    "    \"\"\"return the binomial densifty function\n",
    "\n",
    "    Args:\n",
    "        p (float): probability of success\n",
    "        n (_type_): number of trials\n",
    "        k (int): number of success\n",
    "\n",
    "    Returns:\n",
    "        float: binomial density function at the probability p\n",
    "    \"\"\"    \n",
    "    return binom_coeff(n, k) * p**k * (1-p)**(n-k)\n",
    "\n",
    "\n",
    "def binom_cdf(p:float, n:int, k:int)->float:\n",
    "    \"\"\"return the binomial cumulative density function \n",
    "        k <= n\n",
    "\n",
    "    Args:\n",
    "        p (float): probability of success\n",
    "        n (int): number of trials\n",
    "        k (int): number of success\n",
    "\n",
    "    Returns:\n",
    "        float: cumulative density function at the probability p\n",
    "    \"\"\"    \n",
    "    cdf = 0\n",
    "    for i in range (k+1):\n",
    "        cdf += binom_density_function(p=p, n=n, k=i)\n",
    "        \n",
    "    return cdf\n",
    "    \n",
    "1-binom_cdf(p=0.5, n=30, k=19)\n",
    "\n",
    "\n"
   ]
  }
 ],
 "metadata": {
  "kernelspec": {
   "display_name": "Python 3.10.6 64-bit",
   "language": "python",
   "name": "python3"
  },
  "language_info": {
   "codemirror_mode": {
    "name": "ipython",
    "version": 3
   },
   "file_extension": ".py",
   "mimetype": "text/x-python",
   "name": "python",
   "nbconvert_exporter": "python",
   "pygments_lexer": "ipython3",
   "version": "3.10.6"
  },
  "orig_nbformat": 4,
  "vscode": {
   "interpreter": {
    "hash": "b0fa6594d8f4cbf19f97940f81e996739fb7646882a419484c72d19e05852a7e"
   }
  }
 },
 "nbformat": 4,
 "nbformat_minor": 2
}
